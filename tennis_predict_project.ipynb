{
 "cells": [
  {
   "cell_type": "code",
   "execution_count": 1,
   "metadata": {},
   "outputs": [],
   "source": [
    "import pandas as pd\n",
    "import numpy as np\n",
    "import matplotlib.pyplot as plt\n",
    "import seaborn as sns\n",
    "import random\n",
    "from sklearn.pipeline import Pipeline\n",
    "from sklearn.compose import ColumnTransformer, make_column_selector\n",
    "from sklearn.preprocessing import StandardScaler, OneHotEncoder\n",
    "from sklearn.impute import SimpleImputer\n",
    "from sklearn.model_selection import train_test_split, cross_val_score\n",
    "from sklearn.ensemble import RandomForestClassifier\n",
    "from sklearn.linear_model import LogisticRegression\n",
    "from sklearn.decomposition import PCA\n",
    "from sklearn.metrics import accuracy_score\n",
    "from sklearn.model_selection import learning_curve\n",
    "from sklearn.model_selection import train_test_split\n",
    "from sklearn.model_selection import GridSearchCV, RandomizedSearchCV"
   ]
  },
  {
   "cell_type": "markdown",
   "metadata": {},
   "source": [
    "# Load the data #"
   ]
  },
  {
   "cell_type": "code",
   "execution_count": 2,
   "metadata": {},
   "outputs": [],
   "source": [
    "# Reading csv dataset and shuffle it\n",
    "data = pd.read_csv(\"./raw_data/atp_matches_till_2022.csv\").sample(frac=1.0).reset_index(drop=True)\n",
    "\n",
    "# New player info df\n",
    "player = pd.read_csv(\"./raw_data/atp_players_till_2022.csv\")"
   ]
  },
  {
   "cell_type": "markdown",
   "metadata": {},
   "source": [
    "# Clean the data #"
   ]
  },
  {
   "cell_type": "code",
   "execution_count": 3,
   "metadata": {},
   "outputs": [],
   "source": [
    "# Removing undesired championship and bad scores\n",
    "data = data.drop(data[data['tourney_id'] == '1968-9295'].index)\n",
    "data = data[~data['score'].str.contains('[A-Za-z]', na=False)]\n",
    "data = data[~data['round'].str.contains('BR', na=False)]\n",
    "data = data[~data['round'].str.contains('ER', na=False)]\n",
    "data = data[~data['round'].str.contains('RR', na=False)]\n",
    "data = data[data['l_bpSaved'] >= 0]\n",
    "\n",
    "# Changing all unknown hands for U and other things\n",
    "player.loc[26080, 'hand'] = 'U'"
   ]
  },
  {
   "cell_type": "code",
   "execution_count": 4,
   "metadata": {},
   "outputs": [],
   "source": [
    "# Changing U hand players with random R and L\n",
    "player.loc[player[player['hand'] == 'U']['hand'].index, 'hand'] = random.choices(population=[['R'], ['L']],weights=[0.91, 0.09], k=41563)"
   ]
  },
  {
   "cell_type": "code",
   "execution_count": 5,
   "metadata": {},
   "outputs": [],
   "source": [
    "# Concatenate player_id, name_first, and name_last into a new column 'player'\n",
    "player['player'] = player['player_id'].astype(str) + ' - ' + player['name_first'] + ' ' + player['name_last']\n",
    "\n",
    "# Drop the columns 'dob', 'ioc', and 'wikidata_id', plus all player info\n",
    "cols_to_drop = ['dob', 'ioc', 'wikidata_id', 'player_id', 'name_first', 'name_last']\n",
    "player.drop(columns=cols_to_drop, inplace=True)\n",
    "\n",
    "# Fill the NaN values in the 'height' column with the mean height and mode for hand\n",
    "player['height'] = round(player['height'].fillna(player['height'].mean()), 2)\n",
    "player['hand'] = player['hand'].fillna(player['hand'].mode()[0])"
   ]
  },
  {
   "cell_type": "code",
   "execution_count": 6,
   "metadata": {},
   "outputs": [],
   "source": [
    "# Creating height and age difference columns\n",
    "data['ht_diff'] = (data['winner_ht'] - data['loser_ht']).abs()\n",
    "data['age_diff'] = (data['winner_age'] - data['loser_age']).abs()"
   ]
  },
  {
   "cell_type": "code",
   "execution_count": 7,
   "metadata": {},
   "outputs": [],
   "source": [
    "# Putting together the player ID with it's name\n",
    "data['winner_id'] = data['winner_id'].astype(str)\n",
    "data['winner_name'] = data['winner_name'].astype(str)\n",
    "data['winner'] = data['winner_id'] + ' - ' + data['winner_name']\n",
    "\n",
    "data['loser_id'] = data['loser_id'].astype(str)\n",
    "data['loser_name'] = data['loser_name'].astype(str)\n",
    "data['loser'] = data['loser_id'] + ' - ' + data['loser_name']"
   ]
  },
  {
   "cell_type": "code",
   "execution_count": 8,
   "metadata": {},
   "outputs": [],
   "source": [
    "# Dropping player ID and name\n",
    "data.drop(columns=['winner_id', 'winner_name', 'loser_id', 'loser_name'], inplace=True)"
   ]
  },
  {
   "cell_type": "code",
   "execution_count": 9,
   "metadata": {},
   "outputs": [],
   "source": [
    "# Dropping unused columns\n",
    "cols_to_drop = [\n",
    "    'winner_seed',\n",
    "    'winner_entry',\n",
    "    'loser_seed',\n",
    "    'loser_entry',\n",
    "    'tourney_id',\n",
    "    'tourney_name',\n",
    "    'match_num',\n",
    "    'tourney_level',\n",
    "    'tourney_date',\n",
    "    'score',\n",
    "    'winner_rank_points',\n",
    "    'loser_rank_points',\n",
    "    'winner_ioc',\n",
    "    'loser_ioc',\n",
    "    'w_svpt',\n",
    "    'w_1stIn',\n",
    "    'w_1stWon',\n",
    "    'w_2ndWon',\n",
    "    'w_SvGms',\n",
    "    'l_svpt',\n",
    "    'l_1stIn',\n",
    "    'l_1stWon',\n",
    "    'l_2ndWon',\n",
    "    'l_SvGms',\n",
    "    'winner_rank',\n",
    "    'loser_rank'\n",
    "    ]\n",
    "new_data = data.drop(columns=cols_to_drop)"
   ]
  },
  {
   "cell_type": "code",
   "execution_count": 10,
   "metadata": {},
   "outputs": [],
   "source": [
    "# Filling hand and height with the mode and mean\n",
    "new_data[['winner_hand', 'loser_hand']] = new_data[['winner_hand', 'loser_hand']].fillna('R', axis=1)\n",
    "new_data[['winner_ht', 'loser_ht']] = new_data[['winner_ht', 'loser_ht']].fillna(183.74, axis=1)"
   ]
  },
  {
   "cell_type": "code",
   "execution_count": 11,
   "metadata": {},
   "outputs": [],
   "source": [
    "# Dropping rows that have empty values\n",
    "new_data = new_data.dropna()"
   ]
  },
  {
   "cell_type": "code",
   "execution_count": 12,
   "metadata": {},
   "outputs": [],
   "source": [
    "# Rounding values of height and age\n",
    "new_data[['winner_ht', 'loser_ht']] = round(new_data[['winner_ht', 'loser_ht']], 2)\n",
    "new_data[['winner_age', 'loser_age']] = round(new_data[['winner_age', 'loser_age']])"
   ]
  },
  {
   "cell_type": "code",
   "execution_count": 13,
   "metadata": {},
   "outputs": [],
   "source": [
    "# Create a copy for winners and losers\n",
    "winner_df = new_data.copy()\n",
    "loser_df = new_data.copy()"
   ]
  },
  {
   "cell_type": "code",
   "execution_count": 14,
   "metadata": {},
   "outputs": [],
   "source": [
    "# Filling target column with 1 (win) and 0 (lose)\n",
    "winner_df['target'] = 1\n",
    "loser_df['target'] = 0"
   ]
  },
  {
   "cell_type": "code",
   "execution_count": 15,
   "metadata": {},
   "outputs": [],
   "source": [
    "# Rename 'winner' and 'loser' in winner_df\n",
    "winner_df.rename(columns={col: col.replace('winner', 'player_1') for col in winner_df.columns if 'winner' in col}, inplace=True)\n",
    "winner_df.rename(columns={col: col.replace('loser', 'player_2') for col in winner_df.columns if 'loser' in col}, inplace=True)\n",
    "\n",
    "# Rename 'w_' and 'l_' in winner_df\n",
    "winner_df.rename(columns={col: col.replace('w_', 'player_1_') for col in winner_df.columns if 'w_' in col}, inplace=True)\n",
    "winner_df.rename(columns={col: col.replace('l_', 'player_2_') for col in winner_df.columns if 'l_' in col}, inplace=True)\n",
    "\n",
    "# Rename draw_sizer\n",
    "winner_df.rename(columns={'draplayer_1_size': 'draw_size'}, inplace=True)\n",
    "\n",
    "# Rename 'loser' and 'winner' in loser_df\n",
    "loser_df.rename(columns={col: col.replace('loser', 'player_1') for col in loser_df.columns if 'loser' in col}, inplace=True)\n",
    "loser_df.rename(columns={col: col.replace('winner', 'player_2') for col in loser_df.columns if 'winner' in col}, inplace=True)\n",
    "\n",
    "# Rename 'l_' and 'w_' in loser_df\n",
    "loser_df.rename(columns={col: col.replace('l_', 'player_1_') for col in loser_df.columns if 'l_' in col}, inplace=True)\n",
    "loser_df.rename(columns={col: col.replace('w_', 'player_2_') for col in loser_df.columns if 'w_' in col}, inplace=True)\n",
    "\n",
    "# Rename draw_sizer\n",
    "loser_df.rename(columns={'draplayer_2_size': 'draw_size'}, inplace=True)"
   ]
  },
  {
   "cell_type": "code",
   "execution_count": 16,
   "metadata": {},
   "outputs": [],
   "source": [
    "# Concatenating both df's\n",
    "df = pd.concat([winner_df, loser_df]).sort_index(kind='merge').reset_index(drop=True)"
   ]
  },
  {
   "cell_type": "code",
   "execution_count": 17,
   "metadata": {},
   "outputs": [],
   "source": [
    "# Step 1: Extract unique players from player_1 and player_2 columns in df\n",
    "unique_players_df = pd.concat([df['player_1'], df['player_2']]).unique()"
   ]
  },
  {
   "cell_type": "code",
   "execution_count": 18,
   "metadata": {},
   "outputs": [],
   "source": [
    "# Step 2: Filter player_df to keep only the rows where 'player' is in unique_players_df\n",
    "player = player[player['player'].isin(unique_players_df)]"
   ]
  },
  {
   "cell_type": "code",
   "execution_count": 19,
   "metadata": {},
   "outputs": [],
   "source": [
    "# Duplicate rows adding the age range for each of them\n",
    "age_ranges = ['- 20', '21 ~ 25', '26 ~ 30', '31 ~ 35', '36 ~ 40', '41 +']\n",
    "\n",
    "player_df = pd.DataFrame(\n",
    "    np.repeat(player.values, len(age_ranges), axis=0),\n",
    "    columns=player.columns\n",
    ")\n",
    "\n",
    "player_df['age'] = np.tile(age_ranges, len(player))"
   ]
  },
  {
   "cell_type": "code",
   "execution_count": 20,
   "metadata": {},
   "outputs": [],
   "source": [
    "# Adding new columns to player_df\n",
    "new_columns = ['ace', 'df', 'bpSaved']\n",
    "for col in new_columns:\n",
    "    player_df.loc[:, col] = np.nan"
   ]
  },
  {
   "cell_type": "code",
   "execution_count": 21,
   "metadata": {},
   "outputs": [],
   "source": [
    "# Creating new breakpoint column and drop unused columns\n",
    "df['player_1_bpSaved'] = round(df['player_1_bpSaved'] / df['player_1_bpFaced'], 2)\n",
    "df['player_2_bpSaved'] = round(df['player_2_bpSaved'] / df['player_2_bpFaced'], 2)\n",
    "df[['player_1_bpSaved', 'player_2_bpSaved']] = df[['player_1_bpSaved', 'player_2_bpSaved']].fillna(0, axis=1)\n",
    "df.drop(columns=['player_1_bpFaced', 'player_2_bpFaced'], inplace=True)"
   ]
  },
  {
   "cell_type": "code",
   "execution_count": 22,
   "metadata": {},
   "outputs": [],
   "source": [
    "# Get the min max age from the age range\n",
    "def parse_age_range(age_range):\n",
    "    if age_range == '- 20':\n",
    "        return 0, 20\n",
    "    elif age_range == '41 +':\n",
    "        return 41, float('inf')\n",
    "    else:\n",
    "        return map(int, age_range.split('~'))"
   ]
  },
  {
   "cell_type": "code",
   "execution_count": 23,
   "metadata": {},
   "outputs": [],
   "source": [
    "# Filtering the player and age on the df\n",
    "def filter_data(df, player_name, age_range):\n",
    "    age_min, age_max = parse_age_range(age_range)\n",
    "\n",
    "    # Filter for player_1\n",
    "    player_1_mask = (df['player_1'] == player_name)\n",
    "    age_1_mask = (df['player_1_age'] >= age_min) & (df['player_1_age'] <= age_max)\n",
    "    filtered_player_1_df = df[player_1_mask & age_1_mask]\n",
    "\n",
    "    # Filter for player_2\n",
    "    player_2_mask = (df['player_2'] == player_name)\n",
    "    age_2_mask = (df['player_2_age'] >= age_min) & (df['player_2_age'] <= age_max)\n",
    "    filtered_player_2_df = df[player_2_mask & age_2_mask]\n",
    "\n",
    "    return filtered_player_1_df, filtered_player_2_df"
   ]
  },
  {
   "cell_type": "code",
   "execution_count": 24,
   "metadata": {},
   "outputs": [],
   "source": [
    "# Calculate the mean of the filtered data\n",
    "def compute_means(filtered_df, new_columns, prefix):\n",
    "    prefixed_columns = [prefix + col for col in new_columns]\n",
    "    means = filtered_df[prefixed_columns].mean()\n",
    "    means.index = new_columns\n",
    "    return means"
   ]
  },
  {
   "cell_type": "code",
   "execution_count": 25,
   "metadata": {},
   "outputs": [],
   "source": [
    "# Call the functions using every single player\n",
    "for index, row in player_df.iterrows():\n",
    "    player_name = row['player']\n",
    "    age_range = row['age']\n",
    "\n",
    "    filtered_player_1_df, filtered_player_2_df = filter_data(df, player_name, age_range)\n",
    "\n",
    "    if not filtered_player_1_df.empty:\n",
    "        means_player_1 = compute_means(filtered_player_1_df, new_columns, 'player_1_')\n",
    "    else:\n",
    "        means_player_1 = pd.Series([float('nan')] * len(new_columns), index=new_columns)\n",
    "\n",
    "    if not filtered_player_2_df.empty:\n",
    "        means_player_2 = compute_means(filtered_player_2_df, new_columns, 'player_2_')\n",
    "    else:\n",
    "        means_player_2 = pd.Series([float('nan')] * len(new_columns), index=new_columns)\n",
    "\n",
    "    combined_means = means_player_1.add(means_player_2, fill_value=0) / 2\n",
    "\n",
    "    player_df.loc[index, new_columns] = combined_means"
   ]
  },
  {
   "cell_type": "code",
   "execution_count": 26,
   "metadata": {},
   "outputs": [],
   "source": [
    "# Drop rows where 'ace' or 'df' columns have NaN values\n",
    "player_df.dropna(subset=['ace', 'df'], inplace=True)"
   ]
  },
  {
   "cell_type": "markdown",
   "metadata": {},
   "source": [
    "# Creating the model #"
   ]
  },
  {
   "cell_type": "code",
   "execution_count": 27,
   "metadata": {},
   "outputs": [],
   "source": [
    "# Creating a copy of main dataset\n",
    "new_df = df.copy()"
   ]
  },
  {
   "cell_type": "code",
   "execution_count": 28,
   "metadata": {},
   "outputs": [],
   "source": [
    "# Selecting the players + dropping the columns\n",
    "cols_to_remove = ['player_1', 'player_2']\n",
    "cols_removed = new_df[cols_to_remove]\n",
    "\n",
    "new_df.drop(columns=cols_removed, inplace= True)"
   ]
  },
  {
   "cell_type": "code",
   "execution_count": 29,
   "metadata": {},
   "outputs": [],
   "source": [
    "# Numerical and Categorical columns\n",
    "num_cols = [\n",
    "      'draw_size', 'player_1_ht', 'player_1_age',\n",
    "       'player_2_ht', 'player_2_age', 'best_of',\n",
    "       'minutes', 'player_1_ace', 'player_1_df', 'player_1_bpSaved',\n",
    "       'player_2_ace', 'player_2_df', 'player_2_bpSaved', 'ht_diff',\n",
    "       'age_diff'\n",
    "]\n",
    "\n",
    "cat_cols = [\n",
    "    'surface', 'player_1_hand', 'player_2_hand', 'round'\n",
    "]"
   ]
  },
  {
   "cell_type": "markdown",
   "metadata": {},
   "source": [
    "## Pipelines ##"
   ]
  },
  {
   "cell_type": "code",
   "execution_count": 47,
   "metadata": {},
   "outputs": [],
   "source": [
    "# Transform numerical and categorical variables\n",
    "num_transformer = Pipeline(steps=[\n",
    "    ('scaler', StandardScaler())\n",
    "])\n",
    "\n",
    "cat_transformer = Pipeline(steps=[\n",
    "    ('onehot', OneHotEncoder(handle_unknown='ignore'))\n",
    "])\n",
    "\n",
    "preprocessor = ColumnTransformer(\n",
    "    transformers=[\n",
    "        ('num', num_transformer, num_cols),\n",
    "        ('cat', cat_transformer, cat_cols)\n",
    "    ])\n",
    "\n",
    "#Final pipeline\n",
    "pipeline = Pipeline(steps=[\n",
    "    ('preprocessor', preprocessor),\n",
    "    ('classifier', RandomForestClassifier(n_estimators=100, max_depth=10, min_samples_split=10, min_samples_leaf=5, max_features=\"sqrt\", max_samples=0.8))\n",
    "])"
   ]
  },
  {
   "cell_type": "markdown",
   "metadata": {},
   "source": [
    "## Defining the model ##"
   ]
  },
  {
   "cell_type": "code",
   "execution_count": 48,
   "metadata": {},
   "outputs": [],
   "source": [
    "# Features and target\n",
    "X = new_df.drop(columns='target', axis=1)\n",
    "y = new_df['target']\n",
    "\n",
    "#Splitting in train-test\n",
    "X_train, X_test, y_train, y_test = train_test_split(X, y, test_size=0.3, shuffle=False)\n",
    "\n",
    "cross_val_score(pipeline, X, y, cv=5, scoring='accuracy').mean()\n",
    "\n",
    "model = pipeline.fit(X_train, y_train)"
   ]
  },
  {
   "cell_type": "code",
   "execution_count": 49,
   "metadata": {},
   "outputs": [
    {
     "name": "stdout",
     "output_type": "stream",
     "text": [
      "Training Accuracy: 0.8127621279269183\n",
      "Test Accuracy: 0.7957805071315373\n"
     ]
    }
   ],
   "source": [
    "# Evaluate the model on the training set\n",
    "train_predictions = model.predict(X_train)\n",
    "train_score = accuracy_score(y_train, train_predictions)\n",
    "\n",
    "# Evaluate the model on the test set\n",
    "test_predictions = model.predict(X_test)\n",
    "test_score = accuracy_score(y_test, test_predictions)\n",
    "\n",
    "print(f'Training Accuracy: {train_score}')\n",
    "print(f'Test Accuracy: {test_score}')\n",
    "train_sizes, train_scores, test_scores = learning_curve(\n",
    "    model, X_train, y_train,\n",
    "    cv=5,\n",
    "    scoring='accuracy',\n",
    "    n_jobs=-1,\n",
    "    train_sizes=np.linspace(0.1, 1.0, 10)\n",
    ")\n",
    "\n",
    "train_scores_mean = np.mean(train_scores, axis=1)\n",
    "train_scores_std = np.std(train_scores, axis=1)\n",
    "test_scores_mean = np.mean(test_scores, axis=1)\n",
    "test_scores_std = np.std(test_scores, axis=1)\n"
   ]
  },
  {
   "cell_type": "code",
   "execution_count": 50,
   "metadata": {},
   "outputs": [
    {
     "data": {
      "image/png": "[encoded data removed]",
      "text/plain": [
       "<Figure size 640x480 with 1 Axes>"
      ]
     },
     "metadata": {},
     "output_type": "display_data"
    }
   ],
   "source": [
    "## Plotting the learning curves\n",
    "plt.figure()\n",
    "\n",
    "plt.plot(train_sizes, train_scores_mean, 'o-', color='r', label='Training score')\n",
    "plt.plot(train_sizes, test_scores_mean, 'o-', color='g', label='Cross-validation score')\n",
    "\n",
    "plt.fill_between(train_sizes, train_scores_mean - train_scores_std, train_scores_mean + train_scores_std, alpha=0.1, color='r')\n",
    "plt.fill_between(train_sizes, test_scores_mean - test_scores_std, test_scores_mean + test_scores_std, alpha=0.1, color='g')\n",
    "\n",
    "plt.xlabel('Training examples')\n",
    "plt.ylabel('Score')\n",
    "plt.title('Learning Curve')\n",
    "plt.legend(loc='best')\n",
    "\n",
    "plt.grid(True)\n",
    "plt.show()"
   ]
  },
  {
   "cell_type": "markdown",
   "metadata": {},
   "source": [
    "### Compress the data ###"
   ]
  },
  {
   "cell_type": "code",
   "execution_count": 51,
   "metadata": {},
   "outputs": [],
   "source": [
    "# Reduces the size of the DataFrame by downcasting numerical columns\n",
    "def compress(df, **kwargs):\n",
    "\n",
    "    input_size = df.memory_usage(index=True).sum()/ 1024**2\n",
    "    print(\"old dataframe size: \", round(input_size,2), 'MB')\n",
    "\n",
    "    in_size = df.memory_usage(index=True).sum()\n",
    "\n",
    "    for t in [\"float\", \"integer\"]:\n",
    "        l_cols = list(df.select_dtypes(include=t))\n",
    "\n",
    "        for col in l_cols:\n",
    "            df[col] = pd.to_numeric(df[col], downcast=t)\n",
    "\n",
    "    out_size = df.memory_usage(index=True).sum()\n",
    "    ratio = (1 - round(out_size / in_size, 2)) * 100\n",
    "\n",
    "    print(\"optimized size by {} %\".format(round(ratio,2)))\n",
    "    print(\"new DataFrame size: \", round(out_size / 1024**2,2), \" MB\")\n",
    "\n",
    "    return df\n"
   ]
  },
  {
   "cell_type": "code",
   "execution_count": 52,
   "metadata": {},
   "outputs": [
    {
     "name": "stdout",
     "output_type": "stream",
     "text": [
      "old dataframe size:  14.12 MB\n",
      "optimized size by 0.0 %\n",
      "new DataFrame size:  14.12  MB\n"
     ]
    },
    {
     "data": {
      "text/html": [
       "<div>\n",
       "<style scoped>\n",
       "    .dataframe tbody tr th:only-of-type {\n",
       "        vertical-align: middle;\n",
       "    }\n",
       "\n",
       "    .dataframe tbody tr th {\n",
       "        vertical-align: top;\n",
       "    }\n",
       "\n",
       "    .dataframe thead th {\n",
       "        text-align: right;\n",
       "    }\n",
       "</style>\n",
       "<table border=\"1\" class=\"dataframe\">\n",
       "  <thead>\n",
       "    <tr style=\"text-align: right;\">\n",
       "      <th></th>\n",
       "      <th>surface</th>\n",
       "      <th>draw_size</th>\n",
       "      <th>player_1_hand</th>\n",
       "      <th>player_1_ht</th>\n",
       "      <th>player_1_age</th>\n",
       "      <th>player_2_hand</th>\n",
       "      <th>player_2_ht</th>\n",
       "      <th>player_2_age</th>\n",
       "      <th>best_of</th>\n",
       "      <th>round</th>\n",
       "      <th>minutes</th>\n",
       "      <th>player_1_ace</th>\n",
       "      <th>player_1_df</th>\n",
       "      <th>player_1_bpSaved</th>\n",
       "      <th>player_2_ace</th>\n",
       "      <th>player_2_df</th>\n",
       "      <th>player_2_bpSaved</th>\n",
       "      <th>ht_diff</th>\n",
       "      <th>age_diff</th>\n",
       "      <th>target</th>\n",
       "    </tr>\n",
       "  </thead>\n",
       "  <tbody>\n",
       "    <tr>\n",
       "      <th>0</th>\n",
       "      <td>Grass</td>\n",
       "      <td>32</td>\n",
       "      <td>R</td>\n",
       "      <td>183.0</td>\n",
       "      <td>24.0</td>\n",
       "      <td>L</td>\n",
       "      <td>183.0</td>\n",
       "      <td>23.0</td>\n",
       "      <td>3</td>\n",
       "      <td>R16</td>\n",
       "      <td>95.0</td>\n",
       "      <td>4.0</td>\n",
       "      <td>10.0</td>\n",
       "      <td>0.5</td>\n",
       "      <td>5.0</td>\n",
       "      <td>5.0</td>\n",
       "      <td>0.62</td>\n",
       "      <td>0.0</td>\n",
       "      <td>1.0</td>\n",
       "      <td>1</td>\n",
       "    </tr>\n",
       "  </tbody>\n",
       "</table>\n",
       "</div>"
      ],
      "text/plain": [
       "  surface  draw_size player_1_hand  player_1_ht  player_1_age player_2_hand  \\\n",
       "0   Grass         32             R        183.0          24.0             L   \n",
       "\n",
       "   player_2_ht  player_2_age  best_of round  minutes  player_1_ace  \\\n",
       "0        183.0          23.0        3   R16     95.0           4.0   \n",
       "\n",
       "   player_1_df  player_1_bpSaved  player_2_ace  player_2_df  player_2_bpSaved  \\\n",
       "0         10.0               0.5           5.0          5.0              0.62   \n",
       "\n",
       "   ht_diff  age_diff  target  \n",
       "0      0.0       1.0       1  "
      ]
     },
     "execution_count": 52,
     "metadata": {},
     "output_type": "execute_result"
    }
   ],
   "source": [
    "new_df = compress(new_df, verbose=True)\n",
    "new_df.head(1)"
   ]
  },
  {
   "cell_type": "code",
   "execution_count": 53,
   "metadata": {},
   "outputs": [],
   "source": [
    "# Concatenating players back to the dataframe\n",
    "final_df = pd.concat([new_df, cols_removed], axis= 1)"
   ]
  },
  {
   "cell_type": "code",
   "execution_count": 67,
   "metadata": {},
   "outputs": [],
   "source": [
    "# Teste\n",
    "# player_1 = \"103819 - Roger Federer\"\n",
    "# player_2 = \"104745 - Rafael Nadal\"\n",
    "\n",
    "# combined_row = pd.DataFrame([{\n",
    "#     'player_1_df': 2.090909,\n",
    "#     'player_2_df': 1.446194,\n",
    "#     'player_1_ht': 185,\n",
    "#     'player_2_ht': 185,\n",
    "#     'surface': 'Clay',\n",
    "#     'player_1_hand': 'R',\n",
    "#     'player_2_hand': 'L',\n",
    "#     'round': 'F',\n",
    "#     'minutes': 160,\n",
    "#     'player_1_ace': 7.189840,\n",
    "#     'player_2_ace': 3.230971,\n",
    "#     'player_1_age': 24,\n",
    "#     'player_2_age': 24,\n",
    "#     'draw_size': 32,\n",
    "#     'best_of': 5,\n",
    "#     'player_1_bpSaved': 0.571578,\n",
    "#     'player_2_bpSaved': 0.539659,\n",
    "#     'age_diff': 0,\n",
    "#     'ht_diff': 0,\n",
    "# }])\n",
    "\n",
    "# predicted_outcome = pipeline.predict(combined_row)\n",
    "# predicted_probabilities = pipeline.predict_proba(combined_row)\n",
    "\n",
    "# if predicted_outcome[0] == 1:\n",
    "#     print(f\"{player_1} ganhou! com {round(predicted_probabilities[0][1] * 100, 2)}%\")\n",
    "# else:\n",
    "#     print(f\"{player_2} ganhou! com {predicted_probabilities[0][1]}\")"
   ]
  }
 ],
 "metadata": {
  "kernelspec": {
   "display_name": "Tennis_ML_Project",
   "language": "python",
   "name": "python3"
  },
  "language_info": {
   "codemirror_mode": {
    "name": "ipython",
    "version": 3
   },
   "file_extension": ".py",
   "mimetype": "text/x-python",
   "name": "python",
   "nbconvert_exporter": "python",
   "pygments_lexer": "ipython3",
   "version": "3.10.6"
  }
 },
 "nbformat": 4,
 "nbformat_minor": 2
}
