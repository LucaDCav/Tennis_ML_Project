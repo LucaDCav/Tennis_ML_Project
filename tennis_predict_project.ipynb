{
 "cells": [
  {
   "cell_type": "code",
   "execution_count": 1,
   "metadata": {},
   "outputs": [],
   "source": [
    "import pandas as pd\n",
    "import numpy as np\n",
    "import re"
   ]
  },
  {
   "cell_type": "code",
   "execution_count": 2,
   "metadata": {},
   "outputs": [],
   "source": [
    "#reading csv dataset\n",
    "data = pd.read_csv(\"./raw_data/atp_matches_till_2022.csv\")"
   ]
  },
  {
   "cell_type": "code",
   "execution_count": 3,
   "metadata": {},
   "outputs": [],
   "source": [
    "#removing undesired championship\n",
    "data = data.drop(data[data['tourney_id'] == '1968-9295'].index)"
   ]
  },
  {
   "cell_type": "code",
   "execution_count": 4,
   "metadata": {},
   "outputs": [],
   "source": [
    "#dropping unused columns (too many empty values)\n",
    "cols_to_drop = ['winner_seed', 'winner_entry', 'loser_seed', 'loser_entry', 'tourney_id', 'tourney_name', 'match_num', 'draw_size', 'tourney_date']\n",
    "data.drop(columns=cols_to_drop, inplace= True)\n",
    "new_data = data.drop(columns=data.iloc[:, 17:])"
   ]
  },
  {
   "cell_type": "code",
   "execution_count": 5,
   "metadata": {},
   "outputs": [],
   "source": [
    "#filling na's with the mode\n",
    "cols_to_fill = ['winner_hand', 'loser_hand']\n",
    "modes = {col: new_data[col].mode()[0] for col in cols_to_fill}\n",
    "new_data = new_data.fillna(modes)"
   ]
  },
  {
   "cell_type": "code",
   "execution_count": 6,
   "metadata": {},
   "outputs": [],
   "source": [
    "#filling na's with the mean\n",
    "cols = ['winner_ht','winner_age','loser_ht','loser_age']\n",
    "new_data[cols] = new_data[cols].apply(lambda col: col.fillna(col.mean()))"
   ]
  },
  {
   "cell_type": "code",
   "execution_count": 7,
   "metadata": {},
   "outputs": [],
   "source": [
    "#dropping rows that have empty values (+-2000 rows removed in total)\n",
    "new_data = new_data.dropna(subset=['score','loser_ioc','winner_ioc','surface'])"
   ]
  },
  {
   "cell_type": "code",
   "execution_count": 8,
   "metadata": {},
   "outputs": [],
   "source": [
    "#removing parenthesis, non-digit (except -) and whitespaces\n",
    "def clean_score(score):\n",
    "    score = re.sub(r'\\(.*?\\)', '', score)\n",
    "    score = re.sub(r'[^0-9\\- ]', '', score)\n",
    "    score = re.sub(r'\\s+', ' ', score).strip()\n",
    "\n",
    "    return score"
   ]
  },
  {
   "cell_type": "code",
   "execution_count": 9,
   "metadata": {},
   "outputs": [],
   "source": [
    "#create new cleaned score\n",
    "new_data['score_clean'] = new_data['score'].apply(clean_score).astype(str)\n",
    "\n",
    "new_data.drop(columns=['score'], inplace=True)\n",
    "\n",
    "new_data.rename(columns={'score_clean': 'score'}, inplace=True)"
   ]
  },
  {
   "cell_type": "code",
   "execution_count": 10,
   "metadata": {},
   "outputs": [],
   "source": [
    "#rounding values of height and age\n",
    "new_data[['winner_ht', 'loser_ht']] = round(new_data[['winner_ht', 'loser_ht']], 2)\n",
    "new_data[['winner_age', 'loser_age']] = round(new_data[['winner_age', 'loser_age']])"
   ]
  },
  {
   "cell_type": "code",
   "execution_count": 11,
   "metadata": {},
   "outputs": [],
   "source": [
    "#calculate the amount of points and sets for each player according to the score\n",
    "def calculate_points_and_sets(score_str):\n",
    "    player_1_points = 0\n",
    "    player_2_points = 0\n",
    "    player_1_sets = 0\n",
    "    player_2_sets = 0\n",
    "    scores = score_str.split()\n",
    "\n",
    "    for score in scores:\n",
    "        if '-' in score:\n",
    "            try:\n",
    "                p1, p2 = map(int, score.split('-'))\n",
    "                player_1_points += p1\n",
    "                player_2_points += p2\n",
    "\n",
    "                # Count sets won by each player\n",
    "                if p1 > p2:\n",
    "                    player_1_sets += 1\n",
    "                elif p2 > p1:\n",
    "                    player_2_sets += 1\n",
    "            except ValueError:\n",
    "                continue\n",
    "\n",
    "    return pd.Series([player_1_points, player_2_points, player_1_sets, player_2_sets])"
   ]
  },
  {
   "cell_type": "code",
   "execution_count": 12,
   "metadata": {},
   "outputs": [],
   "source": [
    "#create a copy for winners and losers\n",
    "winner_df = new_data.copy()\n",
    "loser_df = new_data.copy()"
   ]
  },
  {
   "cell_type": "code",
   "execution_count": 13,
   "metadata": {},
   "outputs": [],
   "source": [
    "#filling target column with 1 (win) and 0 (lose)\n",
    "winner_df['target'] = 1\n",
    "loser_df['target'] = 0"
   ]
  },
  {
   "cell_type": "code",
   "execution_count": 14,
   "metadata": {},
   "outputs": [],
   "source": [
    "#removing rows with nan or 0\n",
    "winner_df = winner_df[~winner_df['score'].isin(['nan', '0'])]\n",
    "loser_df = loser_df[~loser_df['score'].isin(['nan', '0'])]"
   ]
  },
  {
   "cell_type": "code",
   "execution_count": 15,
   "metadata": {},
   "outputs": [],
   "source": [
    "#renaming column's title\n",
    "winner_df.rename(columns={col: col.replace('winner', 'player_1') for col in winner_df.columns if 'winner' in col}, inplace=True)\n",
    "winner_df.rename(columns={col: col.replace('loser', 'player_2') for col in winner_df.columns if 'loser' in col}, inplace=True)\n",
    "loser_df.rename(columns={col: col.replace('loser', 'player_1') for col in loser_df.columns if 'loser' in col}, inplace=True)\n",
    "loser_df.rename(columns={col: col.replace('winner', 'player_2') for col in loser_df.columns if 'winner' in col}, inplace=True)"
   ]
  },
  {
   "cell_type": "code",
   "execution_count": 16,
   "metadata": {},
   "outputs": [],
   "source": [
    "#creating 2 new columns for the total sum of the points per match\n",
    "winner_df[['player_1_points', 'player_2_points', 'player_1_sets', 'player_2_sets']] = winner_df['score'].apply(calculate_points_and_sets)\n",
    "loser_df[['player_1_points', 'player_2_points', 'player_1_sets', 'player_2_sets']] = loser_df['score'].apply(calculate_points_and_sets)"
   ]
  },
  {
   "cell_type": "code",
   "execution_count": 17,
   "metadata": {},
   "outputs": [],
   "source": [
    "#renaming column's title\n",
    "loser_df.rename(columns={'player_1_points': 'player_2_points', 'player_2_points': 'player_1_points'}, inplace=True)\n",
    "loser_df.rename(columns={'player_1_sets': 'player_2_sets', 'player_2_sets': 'player_1_sets'}, inplace=True)"
   ]
  },
  {
   "cell_type": "code",
   "execution_count": 18,
   "metadata": {},
   "outputs": [],
   "source": [
    "#dropping score column\n",
    "winner_df.drop(columns=['score'], inplace=True)\n",
    "loser_df.drop(columns=['score'], inplace=True)"
   ]
  },
  {
   "cell_type": "code",
   "execution_count": 19,
   "metadata": {},
   "outputs": [],
   "source": [
    "#concatenating both df's\n",
    "df = pd.concat([winner_df, loser_df], ignore_index=True)"
   ]
  },
  {
   "cell_type": "code",
   "execution_count": 20,
   "metadata": {},
   "outputs": [],
   "source": [
    "#creating height and age difference columns\n",
    "df['ht_diff'] = (df['player_1_ht'] - df['player_2_ht']).abs()\n",
    "df['age_diff'] = (df['player_1_age'] - df['player_2_age']).abs()"
   ]
  }
 ],
 "metadata": {
  "kernelspec": {
   "display_name": "Tennis_ML_Project",
   "language": "python",
   "name": "python3"
  },
  "language_info": {
   "codemirror_mode": {
    "name": "ipython",
    "version": 3
   },
   "file_extension": ".py",
   "mimetype": "text/x-python",
   "name": "python",
   "nbconvert_exporter": "python",
   "pygments_lexer": "ipython3",
   "version": "3.10.6"
  }
 },
 "nbformat": 4,
 "nbformat_minor": 2
}
