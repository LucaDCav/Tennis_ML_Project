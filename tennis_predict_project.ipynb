{
 "cells": [
  {
   "cell_type": "code",
   "execution_count": 1,
   "metadata": {},
   "outputs": [],
   "source": [
    "import pandas as pd"
   ]
  },
  {
   "cell_type": "code",
   "execution_count": 2,
   "metadata": {},
   "outputs": [],
   "source": [
    "#reading csv dataset and shuffle it\n",
    "data = pd.read_csv(\"./raw_data/atp_matches_till_2022.csv\").sample(frac=1.0).reset_index(drop=True)"
   ]
  },
  {
   "cell_type": "code",
   "execution_count": 3,
   "metadata": {},
   "outputs": [],
   "source": [
    "#removing undesired championship and bad scores\n",
    "data = data.drop(data[data['tourney_id'] == '1968-9295'].index)\n",
    "data = data[~data['score'].str.contains('[A-Za-z]', na=False)]"
   ]
  },
  {
   "cell_type": "code",
   "execution_count": 4,
   "metadata": {},
   "outputs": [],
   "source": [
    "#dropping unused columns\n",
    "cols_to_drop = [\n",
    "    'winner_seed',\n",
    "    'winner_entry',\n",
    "    'loser_seed',\n",
    "    'loser_entry',\n",
    "    'tourney_id',\n",
    "    'tourney_name',\n",
    "    'match_num',\n",
    "    'tourney_level',\n",
    "    'tourney_date',\n",
    "    'score',\n",
    "    'winner_rank_points',\n",
    "    'loser_rank_points',\n",
    "    'winner_ioc',\n",
    "    'loser_ioc'\n",
    "    ]\n",
    "new_data = data.drop(columns=cols_to_drop)"
   ]
  },
  {
   "cell_type": "code",
   "execution_count": 5,
   "metadata": {},
   "outputs": [],
   "source": [
    "#filling na's with the mode\n",
    "cols_to_fill = ['winner_hand', 'loser_hand']\n",
    "modes = {col: new_data[col].mode()[0] for col in cols_to_fill}\n",
    "new_data = new_data.fillna(modes)"
   ]
  },
  {
   "cell_type": "code",
   "execution_count": 6,
   "metadata": {},
   "outputs": [],
   "source": [
    "#filling na's with the mean\n",
    "cols = ['winner_ht','winner_age','loser_ht','loser_age']\n",
    "new_data[cols] = new_data[cols].apply(lambda col: col.fillna(col.mean()))"
   ]
  },
  {
   "cell_type": "code",
   "execution_count": 7,
   "metadata": {},
   "outputs": [],
   "source": [
    "#dropping rows that have empty values\n",
    "new_data = new_data.dropna()"
   ]
  },
  {
   "cell_type": "code",
   "execution_count": 8,
   "metadata": {},
   "outputs": [],
   "source": [
    "#rounding values of height and age\n",
    "new_data[['winner_ht', 'loser_ht']] = round(new_data[['winner_ht', 'loser_ht']], 2)\n",
    "new_data[['winner_age', 'loser_age']] = round(new_data[['winner_age', 'loser_age']])"
   ]
  },
  {
   "cell_type": "code",
   "execution_count": 9,
   "metadata": {},
   "outputs": [],
   "source": [
    "#create a copy for winners and losers\n",
    "winner_df = new_data.copy()\n",
    "loser_df = new_data.copy()"
   ]
  },
  {
   "cell_type": "code",
   "execution_count": 10,
   "metadata": {},
   "outputs": [],
   "source": [
    "#filling target column with 1 (win) and 0 (lose)\n",
    "winner_df['target'] = 1\n",
    "loser_df['target'] = 0"
   ]
  },
  {
   "cell_type": "code",
   "execution_count": 11,
   "metadata": {},
   "outputs": [],
   "source": [
    "# Rename 'winner' and 'loser' in winner_df\n",
    "winner_df.rename(columns={col: col.replace('winner', 'player_1') for col in winner_df.columns if 'winner' in col}, inplace=True)\n",
    "winner_df.rename(columns={col: col.replace('loser', 'player_2') for col in winner_df.columns if 'loser' in col}, inplace=True)\n",
    "\n",
    "# Rename 'w_' and 'l_' in winner_df\n",
    "winner_df.rename(columns={col: col.replace('w_', 'player_1_') for col in winner_df.columns if 'w_' in col}, inplace=True)\n",
    "winner_df.rename(columns={col: col.replace('l_', 'player_2_') for col in winner_df.columns if 'l_' in col}, inplace=True)\n",
    "\n",
    "#rename draw_sizer\n",
    "winner_df.rename(columns={'draplayer_1_size': 'draw_size'}, inplace=True)\n",
    "\n",
    "# Rename 'loser' and 'winner' in loser_df\n",
    "loser_df.rename(columns={col: col.replace('loser', 'player_1') for col in loser_df.columns if 'loser' in col}, inplace=True)\n",
    "loser_df.rename(columns={col: col.replace('winner', 'player_2') for col in loser_df.columns if 'winner' in col}, inplace=True)\n",
    "\n",
    "# Rename 'l_' and 'w_' in loser_df\n",
    "loser_df.rename(columns={col: col.replace('l_', 'player_1_') for col in loser_df.columns if 'l_' in col}, inplace=True)\n",
    "loser_df.rename(columns={col: col.replace('w_', 'player_2_') for col in loser_df.columns if 'w_' in col}, inplace=True)\n",
    "\n",
    "#rename draw_sizer\n",
    "loser_df.rename(columns={'draplayer_2_size': 'draw_size'}, inplace=True)"
   ]
  },
  {
   "cell_type": "code",
   "execution_count": 12,
   "metadata": {},
   "outputs": [],
   "source": [
    "#concatenating both df's\n",
    "df = pd.concat([winner_df, loser_df]).sort_index(kind='merge').reset_index(drop=True)"
   ]
  },
  {
   "cell_type": "code",
   "execution_count": 13,
   "metadata": {},
   "outputs": [],
   "source": [
    "#creating height and age difference columns\n",
    "df['ht_diff'] = (df['player_1_ht'] - df['player_2_ht']).abs()\n",
    "df['age_diff'] = (df['player_1_age'] - df['player_2_age']).abs()"
   ]
  },
  {
   "cell_type": "code",
   "execution_count": 14,
   "metadata": {},
   "outputs": [],
   "source": [
    "#putting together the player ID with it's name\n",
    "df['player_1_id'] = df['player_1_id'].astype(str)\n",
    "df['player_1_name'] = df['player_1_name'].astype(str)\n",
    "df['player_1'] = df['player_1_id'] + ' - ' + df['player_1_name']\n",
    "\n",
    "df['player_2_id'] = df['player_2_id'].astype(str)\n",
    "df['player_2_name'] = df['player_2_name'].astype(str)\n",
    "df['player_2'] = df['player_2_id'] + ' - ' + df['player_2_name']"
   ]
  },
  {
   "cell_type": "code",
   "execution_count": 15,
   "metadata": {},
   "outputs": [],
   "source": [
    "#dropping player ID and name\n",
    "df.drop(columns=['player_1_id', 'player_1_name', 'player_2_id', 'player_2_name'], inplace=True)"
   ]
  },
  {
   "cell_type": "code",
   "execution_count": 18,
   "metadata": {},
   "outputs": [],
   "source": [
    "player = pd.read_csv(\"./raw_data/atp_players_till_2022.csv\")"
   ]
  }
 ],
 "metadata": {
  "kernelspec": {
   "display_name": "Tennis_ML_Project",
   "language": "python",
   "name": "python3"
  },
  "language_info": {
   "codemirror_mode": {
    "name": "ipython",
    "version": 3
   },
   "file_extension": ".py",
   "mimetype": "text/x-python",
   "name": "python",
   "nbconvert_exporter": "python",
   "pygments_lexer": "ipython3",
   "version": "3.10.6"
  }
 },
 "nbformat": 4,
 "nbformat_minor": 2
}
